{
 "cells": [
  {
   "cell_type": "code",
   "execution_count": 1,
   "source": [
    "from common.constant import BASE_URL, X_AUTH_TOKEN\n",
    "from common.api import Session, Command, Status"
   ],
   "outputs": [],
   "metadata": {}
  },
  {
   "cell_type": "code",
   "execution_count": 2,
   "source": [
    "session = Session(BASE_URL, X_AUTH_TOKEN).start(problem=1)"
   ],
   "outputs": [],
   "metadata": {}
  },
  {
   "cell_type": "code",
   "execution_count": 3,
   "source": [
    "session.status"
   ],
   "outputs": [
    {
     "output_type": "execute_result",
     "data": {
      "text/plain": [
       "'ready'"
      ]
     },
     "metadata": {},
     "execution_count": 3
    }
   ],
   "metadata": {}
  },
  {
   "cell_type": "code",
   "execution_count": 4,
   "source": [
    "locations = session.get_locations()\n",
    "locations"
   ],
   "outputs": [
    {
     "output_type": "execute_result",
     "data": {
      "text/plain": [
       "[{'id': 0, 'located_bikes_count': 4},\n",
       " {'id': 1, 'located_bikes_count': 4},\n",
       " {'id': 2, 'located_bikes_count': 4},\n",
       " {'id': 3, 'located_bikes_count': 4},\n",
       " {'id': 4, 'located_bikes_count': 4},\n",
       " {'id': 5, 'located_bikes_count': 4},\n",
       " {'id': 6, 'located_bikes_count': 4},\n",
       " {'id': 7, 'located_bikes_count': 4},\n",
       " {'id': 8, 'located_bikes_count': 4},\n",
       " {'id': 9, 'located_bikes_count': 4},\n",
       " {'id': 10, 'located_bikes_count': 4},\n",
       " {'id': 11, 'located_bikes_count': 4},\n",
       " {'id': 12, 'located_bikes_count': 4},\n",
       " {'id': 13, 'located_bikes_count': 4},\n",
       " {'id': 14, 'located_bikes_count': 4},\n",
       " {'id': 15, 'located_bikes_count': 4},\n",
       " {'id': 16, 'located_bikes_count': 4},\n",
       " {'id': 17, 'located_bikes_count': 4},\n",
       " {'id': 18, 'located_bikes_count': 4},\n",
       " {'id': 19, 'located_bikes_count': 4},\n",
       " {'id': 20, 'located_bikes_count': 4},\n",
       " {'id': 21, 'located_bikes_count': 4},\n",
       " {'id': 22, 'located_bikes_count': 4},\n",
       " {'id': 23, 'located_bikes_count': 4},\n",
       " {'id': 24, 'located_bikes_count': 4}]"
      ]
     },
     "metadata": {},
     "execution_count": 4
    }
   ],
   "metadata": {}
  },
  {
   "cell_type": "code",
   "execution_count": 5,
   "source": [
    "trucks = session.get_trucks()\n",
    "trucks"
   ],
   "outputs": [
    {
     "output_type": "execute_result",
     "data": {
      "text/plain": [
       "[{'id': 0, 'loaded_bikes_count': 0, 'location_id': 0},\n",
       " {'id': 1, 'loaded_bikes_count': 0, 'location_id': 0},\n",
       " {'id': 2, 'loaded_bikes_count': 0, 'location_id': 0},\n",
       " {'id': 3, 'loaded_bikes_count': 0, 'location_id': 0},\n",
       " {'id': 4, 'loaded_bikes_count': 0, 'location_id': 0}]"
      ]
     },
     "metadata": {},
     "execution_count": 5
    }
   ],
   "metadata": {}
  },
  {
   "cell_type": "code",
   "execution_count": 6,
   "source": [
    "session.simulate([\n",
    "    {'truck_id': 0, 'command': [Command.NOTHING]},\n",
    "])"
   ],
   "outputs": [
    {
     "output_type": "execute_result",
     "data": {
      "text/plain": [
       "<common.api.Session at 0x7f02c425af10>"
      ]
     },
     "metadata": {},
     "execution_count": 6
    }
   ],
   "metadata": {}
  },
  {
   "cell_type": "code",
   "execution_count": 7,
   "source": [
    "session.time"
   ],
   "outputs": [
    {
     "output_type": "execute_result",
     "data": {
      "text/plain": [
       "1"
      ]
     },
     "metadata": {},
     "execution_count": 7
    }
   ],
   "metadata": {}
  },
  {
   "cell_type": "code",
   "execution_count": 8,
   "source": [
    "session.get_score()"
   ],
   "outputs": [
    {
     "output_type": "execute_result",
     "data": {
      "text/plain": [
       "0.0"
      ]
     },
     "metadata": {},
     "execution_count": 8
    }
   ],
   "metadata": {}
  },
  {
   "cell_type": "code",
   "execution_count": null,
   "source": [],
   "outputs": [],
   "metadata": {}
  }
 ],
 "metadata": {
  "orig_nbformat": 4,
  "language_info": {
   "name": "python",
   "version": "3.8.11",
   "mimetype": "text/x-python",
   "codemirror_mode": {
    "name": "ipython",
    "version": 3
   },
   "pygments_lexer": "ipython3",
   "nbconvert_exporter": "python",
   "file_extension": ".py"
  },
  "kernelspec": {
   "name": "python3",
   "display_name": "Python 3.8.11 64-bit ('kakao': conda)"
  },
  "interpreter": {
   "hash": "a4876e82f0c2eb9633a1f3d2ec6e8bee96a8747cb068c84310ec6abb39263fb9"
  }
 },
 "nbformat": 4,
 "nbformat_minor": 2
}